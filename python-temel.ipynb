{
 "cells": [
  {
   "cell_type": "code",
   "execution_count": null,
   "metadata": {},
   "outputs": [],
   "source": [
    "l = [[1, 'a', ['cat'], 2], [[[3]], 'dog'], 4, 5]\n",
    "l1 = []\n",
    "def flatten(l):   \n",
    "    for i in l:\n",
    "        if isinstance(i, list):\n",
    "            flatten(i)\n",
    "        else:\n",
    "            l1.append(i)         \n",
    "flatten(l)\n",
    "print(l1)"
   ]
  },
  {
   "cell_type": "code",
   "execution_count": null,
   "metadata": {},
   "outputs": [],
   "source": [
    "l = [[1, 2], [3, 4], [5, 6, 7]]\n",
    "\n",
    "def reverse_nested_list(l):\n",
    "    return [sublist[::-1] for sublist in l[::-1]]\n",
    "l1 = reverse_nested_list(l)\n",
    "print(l1)"
   ]
  }
 ],
 "metadata": {
  "language_info": {
   "name": "python"
  }
 },
 "nbformat": 4,
 "nbformat_minor": 2
}
